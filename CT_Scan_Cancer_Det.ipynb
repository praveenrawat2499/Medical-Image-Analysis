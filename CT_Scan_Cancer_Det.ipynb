{
  "nbformat": 4,
  "nbformat_minor": 0,
  "metadata": {
    "colab": {
      "provenance": []
    },
    "kernelspec": {
      "name": "python3",
      "display_name": "Python 3"
    },
    "language_info": {
      "name": "python"
    }
  },
  "cells": [
    {
      "cell_type": "markdown",
      "source": [
        "**Cancer Detection by using Chest CT Scan pictures with the help of computer vision and CNN, tensorflow**"
      ],
      "metadata": {
        "id": "srKw6d_7kaiS"
      }
    },
    {
      "cell_type": "code",
      "execution_count": null,
      "metadata": {
        "id": "BxAcoLGie-CI"
      },
      "outputs": [],
      "source": [
        "import warnings\n",
        "warnings.filterwarnings('ignore')"
      ]
    },
    {
      "cell_type": "code",
      "source": [
        "!unzip \"/content/drive/MyDrive/Chest cancer CT-Scan.zip\""
      ],
      "metadata": {
        "id": "0xmbrReGfjU5"
      },
      "execution_count": null,
      "outputs": []
    },
    {
      "cell_type": "code",
      "source": [
        "import random\n",
        "import numpy as np\n",
        "import pandas as pd\n",
        "import seaborn as sns\n",
        "import matplotlib.pyplot as plt\n",
        "import os   #for files and dir\n",
        "import math\n",
        "import shutil #we can move file from one file to another\n",
        "import glob\n",
        "import cv2 #computer Vision"
      ],
      "metadata": {
        "id": "gkCdSR1TfjYg"
      },
      "execution_count": null,
      "outputs": []
    },
    {
      "cell_type": "code",
      "source": [
        "#count the no of images in the respective classes 0 - NO Brain Tumor and 1 - Brain Tumor\n",
        "ROOT_DIR = \"/content/Chest cancer CT-Scan/Data\"\n",
        "num_of_images = {}\n",
        "for dir in os.listdir(ROOT_DIR):\n",
        "  num_of_images[dir] = len(os.listdir(os.path.join(ROOT_DIR, dir)))"
      ],
      "metadata": {
        "id": "XT9z9Vo0fja3"
      },
      "execution_count": null,
      "outputs": []
    },
    {
      "cell_type": "code",
      "source": [
        "num_of_images.items()"
      ],
      "metadata": {
        "id": "1rKBKxE_fjda",
        "colab": {
          "base_uri": "https://localhost:8080/"
        },
        "outputId": "b59bf5dc-d22d-46fc-993d-e07873a0c19a"
      },
      "execution_count": null,
      "outputs": [
        {
          "output_type": "execute_result",
          "data": {
            "text/plain": [
              "dict_items([('train', 4), ('test', 4), ('valid', 4)])"
            ]
          },
          "metadata": {},
          "execution_count": 5
        }
      ]
    },
    {
      "cell_type": "code",
      "source": [
        "os.listdir(\"/content/Chest cancer CT-Scan/Data\")"
      ],
      "metadata": {
        "id": "WEXAsEEPfjgP",
        "colab": {
          "base_uri": "https://localhost:8080/"
        },
        "outputId": "31a01160-2209-4345-ed83-bd2d44fc6904"
      },
      "execution_count": null,
      "outputs": [
        {
          "output_type": "execute_result",
          "data": {
            "text/plain": [
              "['train', 'test', 'valid']"
            ]
          },
          "metadata": {},
          "execution_count": 6
        }
      ]
    },
    {
      "cell_type": "code",
      "source": [
        "test_dir = \"/content/Chest cancer CT-Scan/Data/test\"\n",
        "train_dir = \"/content/Chest cancer CT-Scan/Data/train\"\n",
        "valid_dir = \"/content/Chest cancer CT-Scan/Data/valid\""
      ],
      "metadata": {
        "id": "1z9EcVdCtK80"
      },
      "execution_count": null,
      "outputs": []
    },
    {
      "cell_type": "code",
      "source": [
        "# train sets\n",
        "for files in os.listdir(train_dir):\n",
        "    print(os.path.join(train_dir,files))\n",
        "\n",
        "print('\\n')\n",
        "# valid sets\n",
        "for files in os.listdir(valid_dir):\n",
        "    print(os.path.join(valid_dir,files))\n",
        "\n",
        "print('\\n')\n",
        "# test sets\n",
        "for files in os.listdir(test_dir):\n",
        "    print(os.path.join(test_dir,files))"
      ],
      "metadata": {
        "id": "f1Akyxlkfjml",
        "colab": {
          "base_uri": "https://localhost:8080/"
        },
        "outputId": "308ece59-7b8e-4ea0-ae4f-4da827ed557e"
      },
      "execution_count": null,
      "outputs": [
        {
          "output_type": "stream",
          "name": "stdout",
          "text": [
            "/content/Chest cancer CT-Scan/Data/train/large.cell.carcinoma_left.hilum_T2_N2_M0_IIIa\n",
            "/content/Chest cancer CT-Scan/Data/train/adenocarcinoma_left.lower.lobe_T2_N0_M0_Ib\n",
            "/content/Chest cancer CT-Scan/Data/train/normal\n",
            "/content/Chest cancer CT-Scan/Data/train/squamous.cell.carcinoma_left.hilum_T1_N2_M0_IIIa\n",
            "\n",
            "\n",
            "/content/Chest cancer CT-Scan/Data/valid/large.cell.carcinoma_left.hilum_T2_N2_M0_IIIa\n",
            "/content/Chest cancer CT-Scan/Data/valid/adenocarcinoma_left.lower.lobe_T2_N0_M0_Ib\n",
            "/content/Chest cancer CT-Scan/Data/valid/normal\n",
            "/content/Chest cancer CT-Scan/Data/valid/squamous.cell.carcinoma_left.hilum_T1_N2_M0_IIIa\n",
            "\n",
            "\n",
            "/content/Chest cancer CT-Scan/Data/test/normal\n",
            "/content/Chest cancer CT-Scan/Data/test/squamous.cell.carcinoma\n",
            "/content/Chest cancer CT-Scan/Data/test/large.cell.carcinoma\n",
            "/content/Chest cancer CT-Scan/Data/test/adenocarcinoma\n"
          ]
        }
      ]
    },
    {
      "cell_type": "code",
      "source": [
        "from skimage import io\n",
        "from skimage.color import rgb2gray\n",
        "import plotly.express as px\n",
        "from sklearn.utils import shuffle\n",
        "from sklearn.preprocessing import LabelEncoder\n",
        "from sklearn.preprocessing import OneHotEncoder\n",
        "\n",
        "\n",
        "import tensorflow as tf\n",
        "from keras.layers import Conv2D, MaxPool2D, Dropout, Flatten, Dense, BatchNormalization, GlobalAvgPool2D\n",
        "from keras.models import Sequential\n",
        "from tensorflow.keras.preprocessing.image import ImageDataGenerator\n",
        "import keras\n",
        "from keras import layers\n",
        "\n",
        "from tensorflow.keras.optimizers import Adam\n",
        "from tensorflow.keras.applications.resnet import preprocess_input\n",
        "from tensorflow.keras.applications import ResNet50\n",
        "from keras import optimizers\n",
        "from keras.applications import resnet\n"
      ],
      "metadata": {
        "id": "TlVIPQPjfjtR"
      },
      "execution_count": null,
      "outputs": []
    },
    {
      "cell_type": "code",
      "source": [
        "tf.__version__"
      ],
      "metadata": {
        "colab": {
          "base_uri": "https://localhost:8080/",
          "height": 36
        },
        "id": "od_E-3rkyXQF",
        "outputId": "d579dc07-a793-49ad-d02d-36f6ce89e820"
      },
      "execution_count": null,
      "outputs": [
        {
          "output_type": "execute_result",
          "data": {
            "text/plain": [
              "'2.11.0'"
            ],
            "application/vnd.google.colaboratory.intrinsic+json": {
              "type": "string"
            }
          },
          "metadata": {},
          "execution_count": 10
        }
      ]
    },
    {
      "cell_type": "markdown",
      "source": [
        "Set globals\n"
      ],
      "metadata": {
        "id": "KImxeHEq-Kzs"
      }
    },
    {
      "cell_type": "code",
      "source": [
        "BATCH_SIZE = 32\n",
        "EPOCHS = 30\n",
        "SEED = 49\n",
        "H = 300 #Height\n",
        "W = 400 #Width\n",
        "IMAGE_SHAPE = (460,460,3)\n",
        "N_CLASSES = 4\n",
        "STEPS = 20"
      ],
      "metadata": {
        "id": "XybLca8LXMfT"
      },
      "execution_count": null,
      "outputs": []
    },
    {
      "cell_type": "markdown",
      "source": [
        "Set visualization defaults\n"
      ],
      "metadata": {
        "id": "CYXao-x9-G1z"
      }
    },
    {
      "cell_type": "code",
      "source": [
        "plt.rcParams['figure.figsize'] = (15, 5)\n",
        "plt.rcParams['xtick.color'] = 'dimgrey'\n",
        "plt.rcParams['ytick.color'] = 'dimgrey'\n",
        "plt.rcParams['axes.labelcolor'] = 'dimgrey'\n",
        "plt.rcParams['xtick.labelsize'] = 14\n",
        "plt.rcParams['ytick.labelsize'] = 14\n",
        "plt.rcParams['axes.labelsize'] = 20\n",
        "plt.rcParams['axes.titlepad'] = 30\n",
        "plt.rcParams['axes.titlesize'] = 30\n",
        "plt.rcParams['axes.spines.top'] = False\n",
        "plt.rcParams['axes.spines.right'] = False"
      ],
      "metadata": {
        "id": "_zNBAPNTtxP4"
      },
      "execution_count": null,
      "outputs": []
    },
    {
      "cell_type": "markdown",
      "source": [
        "Setup GPU accelerator - configure Strategy\n"
      ],
      "metadata": {
        "id": "c_95o7q9-CrS"
      }
    },
    {
      "cell_type": "code",
      "source": [
        "tpu = None\n",
        "try:\n",
        "    tpu = tf.distribute.cluster_resolver.TPUClusterResolver()\n",
        "    tf.config.experimental_connect_to_cluster(tpu)\n",
        "    tf.tpu.experimental.initialize_tpu_system(tpu)\n",
        "    strategy = tf.distribute.TPUStrategy(tpu) #Assume TPU\n",
        "except ValueError:\n",
        "    strategy = tf.distribute.get_strategy() #if not TPU, set default for GPU/CPU"
      ],
      "metadata": {
        "id": "5yra9XudXMsB"
      },
      "execution_count": null,
      "outputs": []
    },
    {
      "cell_type": "markdown",
      "source": [
        "Pre-Processing images"
      ],
      "metadata": {
        "id": "C6zWN0K--cCU"
      }
    },
    {
      "cell_type": "code",
      "source": [],
      "metadata": {
        "id": "IDnWIe9tXM5M"
      },
      "execution_count": null,
      "outputs": []
    },
    {
      "cell_type": "code",
      "source": [
        "# Training Images\n",
        "\n",
        "\"\"\"\n",
        "  input : Path\n",
        "  output : Pre processed images    \"\"\"\n",
        "trainImg_data = ImageDataGenerator(dtype='float32') #data augmentation\n",
        "train_image = trainImg_data.flow_from_directory(train_dir, target_size = (460,460), batch_size = BATCH_SIZE, class_mode = 'categorical')\n",
        "\n"
      ],
      "metadata": {
        "colab": {
          "base_uri": "https://localhost:8080/"
        },
        "id": "FsG5H1xRNr5C",
        "outputId": "1206f757-bccb-48e3-9ce8-d350a5ae8e91"
      },
      "execution_count": null,
      "outputs": [
        {
          "output_type": "stream",
          "name": "stdout",
          "text": [
            "Found 613 images belonging to 4 classes.\n"
          ]
        }
      ]
    },
    {
      "cell_type": "code",
      "source": [
        "# Testing Images\n",
        "\n",
        "testImg_data = ImageDataGenerator(dtype='float32')\n",
        "test_image = testImg_data.flow_from_directory(test_dir,  target_size = (460, 460), batch_size = BATCH_SIZE, class_mode = 'categorical')\n"
      ],
      "metadata": {
        "id": "-98gwUHRfjrM",
        "colab": {
          "base_uri": "https://localhost:8080/"
        },
        "outputId": "c6d7628a-c5a9-42e1-d980-a641a3064fc8"
      },
      "execution_count": null,
      "outputs": [
        {
          "output_type": "stream",
          "name": "stdout",
          "text": [
            "Found 315 images belonging to 4 classes.\n"
          ]
        }
      ]
    },
    {
      "cell_type": "code",
      "source": [
        "# Validation Images\n",
        "\n",
        "validImg_data = ImageDataGenerator(dtype='float32')\n",
        "valid_image = validImg_data.flow_from_directory(valid_dir,  target_size = (460, 460), batch_size = BATCH_SIZE, class_mode = 'categorical')\n"
      ],
      "metadata": {
        "colab": {
          "base_uri": "https://localhost:8080/"
        },
        "id": "PjtvGiohNr-u",
        "outputId": "f6114066-62ba-46da-ff14-4d3b0001effd"
      },
      "execution_count": null,
      "outputs": [
        {
          "output_type": "stream",
          "name": "stdout",
          "text": [
            "Found 72 images belonging to 4 classes.\n"
          ]
        }
      ]
    },
    {
      "cell_type": "markdown",
      "source": [
        "\n",
        "###Model Building"
      ],
      "metadata": {
        "id": "WqKClZD5NOHz"
      }
    },
    {
      "cell_type": "code",
      "source": [
        "#ResNet50 Model\n",
        "with strategy.scope(): #use TPU/GPU strategy\n",
        "\n",
        "    res_model = ResNet50(include_top=False,\n",
        "                         pooling='avg',\n",
        "                         weights='imagenet',\n",
        "                         input_shape = (IMAGE_SHAPE))\n",
        "\n",
        "    for layer in res_model.layers:\n",
        "        if 'conv5' not in layer.name:\n",
        "            layer.trainable = False\n",
        "with strategy.scope(): #use TPU/GPU strategy\n",
        "\n",
        "    res_model = ResNet50(include_top=False,\n",
        "                         pooling='avg',\n",
        "                         weights='imagenet',\n",
        "                         input_shape = (IMAGE_SHAPE))\n",
        "\n",
        "    for layer in res_model.layers:\n",
        "        if 'conv5' not in layer.name:\n",
        "            layer.trainable = False\n",
        "\n",
        "    resnet_model = Sequential()\n",
        "    resnet_model.add(res_model)\n",
        "    resnet_model.add(Dropout(0.4))\n",
        "    resnet_model.add(Flatten())\n",
        "    resnet_model.add(BatchNormalization())\n",
        "    resnet_model.add(Dropout(0.4))\n",
        "    resnet_model.add(Dense(N_CLASSES, activation='softmax'))\n",
        "    resnet_model.summary()\n",
        "\n",
        "    adam_optimizer = tf.keras.optimizers.legacy.Adam(learning_rate= 0.00001,\n",
        "                                         decay= 1e-5)\n",
        "    #compiling the model\n",
        "    resnet_model.compile(optimizer=adam_optimizer,\n",
        "                         loss='categorical_crossentropy',\n",
        "                         metrics=['accuracy']) #need to update to use f1 score too\n"
      ],
      "metadata": {
        "id": "uAUxyNPNNWZB"
      },
      "execution_count": null,
      "outputs": []
    },
    {
      "cell_type": "markdown",
      "source": [
        "Early stopping"
      ],
      "metadata": {
        "id": "6PXpoMm-9zK9"
      }
    },
    {
      "cell_type": "code",
      "source": [
        "#Early stoping and model check point\n",
        "from keras.callbacks import  ModelCheckpoint, EarlyStopping\n",
        "\n",
        "from keras.models import Model\n",
        "#early stopping\n",
        "checkpoint = ModelCheckpoint(filepath='./transfer_model.hdf5',\n",
        "                               monitor='val_loss',\n",
        "                               verbose = 1,\n",
        "                               save_best_only=True)\n",
        "\n",
        "early_stopping = EarlyStopping(verbose=1,\n",
        "                               patience=2)\n"
      ],
      "metadata": {
        "id": "XAxK9EgON5ji"
      },
      "execution_count": null,
      "outputs": []
    },
    {
      "cell_type": "code",
      "source": [],
      "metadata": {
        "id": "a0dxOqDbOgte"
      },
      "execution_count": null,
      "outputs": []
    },
    {
      "cell_type": "markdown",
      "source": [
        "#Model Training\n",
        "\n",
        "\n",
        "\n",
        "\n",
        "\n",
        "\n",
        "\n",
        "\n",
        "\n",
        "\n",
        "\n",
        "\n",
        "\n",
        "\n",
        "\n",
        "\n",
        "\n",
        "\n",
        "\n",
        "\n",
        "\n",
        "\n",
        "\n",
        "\n",
        "\n",
        "\n",
        "\n",
        "\n",
        "\n",
        "\n",
        "\n",
        "\n",
        "\n",
        "\n",
        "\n",
        "\n",
        "\n",
        "\n",
        "\n",
        "\n",
        "\n",
        "\n",
        "\n",
        "\n",
        "\n",
        "\n",
        ","
      ],
      "metadata": {
        "id": "F1LbeVmeOl3z"
      }
    },
    {
      "cell_type": "code",
      "source": [
        "history_model = resnet_model.fit(train_image,\n",
        "                               epochs = EPOCHS,\n",
        "                               verbose = 1,\n",
        "                               validation_data = valid_image,\n",
        "                               callbacks = [checkpoint, early_stopping])"
      ],
      "metadata": {
        "id": "ke5Ev5_fN5nI"
      },
      "execution_count": null,
      "outputs": []
    },
    {
      "cell_type": "code",
      "source": [
        "#Model Graphical Interpretation\n",
        "h = model.history\n",
        "h.keys()"
      ],
      "metadata": {
        "id": "9HvoTKwiN5qy"
      },
      "execution_count": null,
      "outputs": []
    },
    {
      "cell_type": "markdown",
      "source": [
        "Ploting Graphs"
      ],
      "metadata": {
        "id": "u2M5Bc3D_Cfq"
      }
    },
    {
      "cell_type": "code",
      "source": [
        "import matplotlib.pyplot as plt\n",
        "plt.plot(h['accuracy'])\n",
        "plt.plot(h['val_accuracy'], c = \"red\")\n",
        "plt.ylabel('loss')\n",
        "plt.xlabel('epoch')\n",
        "plt.title(\"acc vs val-acc\")\n",
        "plt.show()"
      ],
      "metadata": {
        "id": "8y1tdMXeN5t1"
      },
      "execution_count": null,
      "outputs": []
    },
    {
      "cell_type": "code",
      "source": [
        "import matplotlib.pyplot as plt\n",
        "plt.plot(h['loss'])\n",
        "plt.plot(h['val_loss'], c = \"red\")\n",
        "\n",
        "plt.title(\"loss vs val-loss\")\n",
        "plt.show()"
      ],
      "metadata": {
        "id": "of_vq0c7VltN"
      },
      "execution_count": null,
      "outputs": []
    },
    {
      "cell_type": "markdown",
      "source": [
        "# Checking Model Accuracy"
      ],
      "metadata": {
        "id": "4XKEwliP_K6C"
      }
    },
    {
      "cell_type": "code",
      "source": [
        "\n",
        "from keras.models import load_model\n",
        "\n",
        "model = load_model(\"/content/transfer_model.hdf5\")\n"
      ],
      "metadata": {
        "id": "umFVh44gVlzN"
      },
      "execution_count": null,
      "outputs": []
    },
    {
      "cell_type": "code",
      "source": [
        "acc = model.evaluate_generator(test_image)[1]\n",
        "print(f\"the accuracy of our model is {acc*100} %\")"
      ],
      "metadata": {
        "colab": {
          "base_uri": "https://localhost:8080/"
        },
        "id": "BjB_nmoKVl2e",
        "outputId": "920c5473-73f6-4c21-e4e3-fa23636a8bc2"
      },
      "execution_count": null,
      "outputs": [
        {
          "output_type": "stream",
          "name": "stdout",
          "text": [
            "the accuracy of our model is 88.57142925262451 %\n"
          ]
        }
      ]
    },
    {
      "cell_type": "markdown",
      "source": [
        "# confusion matrics"
      ],
      "metadata": {
        "id": "l6mh1ony_oFE"
      }
    },
    {
      "cell_type": "code",
      "source": [
        "Y_pred = model.predict(test_image, test_image.samples / BATCH_SIZE)\n",
        "val_preds = np.argmax(Y_pred, axis=1)\n",
        "import sklearn.metrics as metrics\n",
        "val_trues =test_image.classes\n",
        "from sklearn.metrics import classification_report\n",
        "print(classification_report(val_trues, val_preds))"
      ],
      "metadata": {
        "colab": {
          "base_uri": "https://localhost:8080/"
        },
        "id": "uxgV_YmawRR6",
        "outputId": "a2cb8f7b-7ca5-4bc4-9511-4fbfd8a87992"
      },
      "execution_count": null,
      "outputs": [
        {
          "output_type": "stream",
          "name": "stdout",
          "text": [
            "10/10 [==============================] - 344s 33s/step\n",
            "              precision    recall  f1-score   support\n",
            "\n",
            "           0       0.36      0.33      0.34       120\n",
            "           1       0.13      0.14      0.14        51\n",
            "           2       0.13      0.13      0.13        54\n",
            "           3       0.27      0.30      0.28        90\n",
            "\n",
            "    accuracy                           0.25       315\n",
            "   macro avg       0.22      0.22      0.22       315\n",
            "weighted avg       0.26      0.25      0.25       315\n",
            "\n"
          ]
        }
      ]
    },
    {
      "cell_type": "code",
      "source": [
        "Y_pred = model.predict(test_image, test_image.samples / BATCH_SIZE)\n",
        "val_preds = np.argmax(Y_pred, axis=1)\n",
        "val_trues =test_image.classes\n",
        "cm = metrics.confusion_matrix(val_trues, val_preds)\n",
        "cm"
      ],
      "metadata": {
        "colab": {
          "base_uri": "https://localhost:8080/"
        },
        "id": "Y3FSz7CpxPUy",
        "outputId": "a24422dc-e61b-4368-856c-516f33e343ad"
      },
      "execution_count": null,
      "outputs": [
        {
          "output_type": "stream",
          "name": "stdout",
          "text": [
            "10/10 [==============================] - 324s 30s/step\n"
          ]
        },
        {
          "output_type": "execute_result",
          "data": {
            "text/plain": [
              "array([[37, 22, 21, 40],\n",
              "       [18, 11, 11, 11],\n",
              "       [20,  7,  6, 21],\n",
              "       [34, 12, 15, 29]])"
            ]
          },
          "metadata": {},
          "execution_count": 71
        }
      ]
    },
    {
      "cell_type": "markdown",
      "source": [
        "# Loading Images for Prediction"
      ],
      "metadata": {
        "id": "2sIUubiT_P_D"
      }
    },
    {
      "cell_type": "code",
      "source": [
        "from tensorflow.keras.preprocessing.image import load_img, img_to_array\n",
        "from PIL import Image"
      ],
      "metadata": {
        "id": "Eoy0_BAtVmMg"
      },
      "execution_count": null,
      "outputs": []
    },
    {
      "cell_type": "code",
      "source": [
        "# Old code\n",
        "path = \"/content/Chest cancer CT-Scan/Data/test/normal/10 - Copy (2).png\"\n",
        "img = load_img(path, target_size = (460,460))\n",
        "input_arr = img_to_array(img)/225   #dividing by 255 for normalizing the image\n",
        "input_arr.shape\n",
        "\n",
        "#ploting image\n",
        "plt.imshow(input_arr)\n",
        "plt.show()\n",
        "\n",
        "input_arr = np.expand_dims(input_arr, axis = 0 )\n",
        "pred = model.predict(input_arr)[0][0]\n",
        "# pred = (model.predict(input_arr) > 0.5)*1\n",
        "# score = tf.nn.softmax(pred[0])\n",
        "pred\n",
        "print(pred)\n",
        "print('Index:',np.argmax(pred))\n"
      ],
      "metadata": {
        "colab": {
          "base_uri": "https://localhost:8080/",
          "height": 402
        },
        "id": "pRL94JDLVmP0",
        "outputId": "0b1e5f5e-10ef-46f5-c1ee-ffdad5dfdaf8"
      },
      "execution_count": null,
      "outputs": [
        {
          "output_type": "stream",
          "name": "stderr",
          "text": [
            "WARNING:matplotlib.image:Clipping input data to the valid range for imshow with RGB data ([0..1] for floats or [0..255] for integers).\n"
          ]
        },
        {
          "output_type": "display_data",
          "data": {
            "text/plain": [
              "<Figure size 1080x360 with 1 Axes>"
            ],
            "image/png": "[encoded data removed]"
          },
          "metadata": {
            "needs_background": "light"
          }
        },
        {
          "output_type": "stream",
          "name": "stdout",
          "text": [
            "1/1 [==============================] - 1s 729ms/step\n",
            "0.002357958\n",
            "Index: 0\n"
          ]
        }
      ]
    },
    {
      "cell_type": "code",
      "source": [
        "from tensorflow.keras.applications.vgg16 import preprocess_input, decode_predictions\n",
        "img_path = \"/content/Chest cancer CT-Scan/Data/test/squamous.cell.carcinoma/000115 (4).png\"\n",
        "img = load_img(img_path, target_size=(460, 460))\n",
        "x = img_to_array(img)/225\n",
        "x = np.expand_dims(x, axis=0)\n",
        "x = preprocess_input(x)\n",
        "preds=model.predict(x)\n",
        "# preds = (model.predict(x) > 0.5)*1\n",
        "# create a list containing the class labels\n",
        "class_labels = ['adenocarcinoma', 'large.cell.carcinoma','normal',  'squamous.cell.carcinoma']\n",
        "# find the index of the class with maximum score\n",
        "pred = np.argmax(preds, axis=-1)\n",
        "# print the label of the class with maximum score\n",
        "print(class_labels[pred[0]])"
      ],
      "metadata": {
        "colab": {
          "base_uri": "https://localhost:8080/"
        },
        "id": "E3uUzbtOuLTm",
        "outputId": "c4068e89-77d6-4d50-ac3f-4fba7c1bdea8"
      },
      "execution_count": null,
      "outputs": [
        {
          "output_type": "stream",
          "name": "stdout",
          "text": [
            "1/1 [==============================] - 1s 735ms/step\n",
            "normal\n"
          ]
        }
      ]
    },
    {
      "cell_type": "code",
      "source": [],
      "metadata": {
        "id": "pk2mAlIh0ySs"
      },
      "execution_count": null,
      "outputs": []
    },
    {
      "cell_type": "code",
      "source": [
        "test_image.class_indices"
      ],
      "metadata": {
        "colab": {
          "base_uri": "https://localhost:8080/"
        },
        "id": "2GZiX2TeVmU4",
        "outputId": "e53164df-47ff-4521-ae4a-a5e852914aae"
      },
      "execution_count": null,
      "outputs": [
        {
          "output_type": "execute_result",
          "data": {
            "text/plain": [
              "{'adenocarcinoma': 0,\n",
              " 'large.cell.carcinoma': 1,\n",
              " 'normal': 2,\n",
              " 'squamous.cell.carcinoma': 3}"
            ]
          },
          "metadata": {},
          "execution_count": 45
        }
      ]
    },
    {
      "cell_type": "code",
      "source": [
        "images =test_image.class_indices\n",
        "print(images)"
      ],
      "metadata": {
        "colab": {
          "base_uri": "https://localhost:8080/"
        },
        "id": "0HlXQhuTSiy9",
        "outputId": "df09349a-7424-4ce1-ea1c-c97d8cd94637"
      },
      "execution_count": null,
      "outputs": [
        {
          "output_type": "stream",
          "name": "stdout",
          "text": [
            "{'adenocarcinoma': 0, 'large.cell.carcinoma': 1, 'normal': 2, 'squamous.cell.carcinoma': 3}\n"
          ]
        }
      ]
    },
    {
      "cell_type": "code",
      "source": [],
      "metadata": {
        "id": "WEGOZWOtU-Cq"
      },
      "execution_count": null,
      "outputs": []
    }
  ]
}