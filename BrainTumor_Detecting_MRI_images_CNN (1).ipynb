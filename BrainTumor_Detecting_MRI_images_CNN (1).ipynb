{
  "nbformat": 4,
  "nbformat_minor": 0,
  "metadata": {
    "colab": {
      "provenance": []
    },
    "kernelspec": {
      "name": "python3",
      "display_name": "Python 3"
    },
    "language_info": {
      "name": "python"
    },
    "gpuClass": "standard",
    "accelerator": "GPU"
  },
  "cells": [
    {
      "cell_type": "markdown",
      "source": [
        "# **Brain Tumor Detection by MRI Images**"
      ],
      "metadata": {
        "id": "BV9fNS9JS11W"
      }
    },
    {
      "cell_type": "code",
      "source": [
        "import warnings\n",
        "warnings.filterwarnings('ignore')"
      ],
      "metadata": {
        "id": "S4k5iiTfU71_"
      },
      "execution_count": null,
      "outputs": []
    },
    {
      "cell_type": "code",
      "execution_count": null,
      "metadata": {
        "id": "nGyhk74XSl2U"
      },
      "outputs": [],
      "source": [
        "!unzip \"/content/drive/MyDrive/Brain Tumor MRI Images.zip\""
      ]
    },
    {
      "cell_type": "markdown",
      "source": [
        "## Importing Libraries"
      ],
      "metadata": {
        "id": "TTyJ1CvnZUeH"
      }
    },
    {
      "cell_type": "code",
      "source": [
        "import numpy as np\n",
        "import matplotlib.pyplot as plt\n",
        "import os   #for files and dir\n",
        "import math\n",
        "import shutil #we can move file from one file to another\n",
        "import glob"
      ],
      "metadata": {
        "id": "zPCiTaCbU0lA"
      },
      "execution_count": null,
      "outputs": []
    },
    {
      "cell_type": "code",
      "source": [
        "import tensorflow as tf\n",
        "from keras.layers import Conv2D, MaxPool2D, Dropout, Flatten, Dense, BatchNormalization, GlobalAvgPool2D\n",
        "from keras.models import Sequential\n",
        "from keras.models import Model, load_model\n",
        "from keras.preprocessing import image\n",
        "from tensorflow.keras.preprocessing.image import ImageDataGenerator\n",
        "import keras\n",
        "import seaborn as sns\n",
        "\n",
        "from keras.layers import Flatten, Dense\n",
        "from keras.applications.mobilenet import MobileNet, preprocess_input\n",
        "from sklearn.metrics import accuracy_score, classification_report"
      ],
      "metadata": {
        "id": "sC2rvA0LU1Kn"
      },
      "execution_count": null,
      "outputs": []
    },
    {
      "cell_type": "code",
      "source": [
        "#count the no of images in the respective classes 0 - NO Brain Tumor and 1 - Brain Tumor\n",
        "ROOT_DIR = \"/content/brain_tumor_dataset\"\n",
        "num_of_images = {}\n",
        "for dir in os.listdir(ROOT_DIR):\n",
        "  num_of_images[dir] = len(os.listdir(os.path.join(ROOT_DIR, dir)))"
      ],
      "metadata": {
        "id": "lfbp0cqfU0o5"
      },
      "execution_count": null,
      "outputs": []
    },
    {
      "cell_type": "code",
      "source": [
        "num_of_images.items()"
      ],
      "metadata": {
        "colab": {
          "base_uri": "https://localhost:8080/"
        },
        "id": "E8KUmbZfU0qv",
        "outputId": "90c61710-8e34-4a63-ece4-66a2fbc90d6c"
      },
      "execution_count": null,
      "outputs": [
        {
          "output_type": "execute_result",
          "data": {
            "text/plain": [
              "dict_items([('yes', 155), ('no', 98)])"
            ]
          },
          "metadata": {},
          "execution_count": 6
        }
      ]
    },
    {
      "cell_type": "code",
      "source": [
        "os.listdir(\"/content/brain_tumor_dataset\")"
      ],
      "metadata": {
        "colab": {
          "base_uri": "https://localhost:8080/"
        },
        "id": "SKjUoLAwU0tV",
        "outputId": "03bc9fbe-eccf-45fa-c379-ea81db3e4a82"
      },
      "execution_count": null,
      "outputs": [
        {
          "output_type": "execute_result",
          "data": {
            "text/plain": [
              "['yes', 'no']"
            ]
          },
          "metadata": {},
          "execution_count": 7
        }
      ]
    },
    {
      "cell_type": "markdown",
      "source": [
        "# we will split the data:\n",
        "* 70% for training\n",
        "* 15% for validation\n",
        "* 15% for testing"
      ],
      "metadata": {
        "id": "sXnbjzB-ZqnC"
      }
    },
    {
      "cell_type": "code",
      "source": [
        "#we create a training folder\n",
        "def dataFolder(p, split):\n",
        "\n",
        "  if not os.path.exists(\"./\"+p):\n",
        "    os.mkdir(\"./\"+p)\n",
        "\n",
        "    for dir in os.listdir(ROOT_DIR):\n",
        "      os.makedirs(\"./\"+p+\"/\"+dir)\n",
        "\n",
        "      for img in np.random.choice(a = os.listdir(os.path.join(ROOT_DIR, dir)),\n",
        "                                  size = (math.floor(split*num_of_images[dir])-5),\n",
        "                                  replace=False ):\n",
        "        O = os.path.join(ROOT_DIR,dir,img) #path\n",
        "        D = os.path.join(\"./\"+p,dir)\n",
        "        shutil.copy(O,D)\n",
        "        os.remove(O)\n",
        "  else:\n",
        "    print(f\"{p} folder exsist\")\n",
        ""
      ],
      "metadata": {
        "id": "DTXC-UFHU0wO"
      },
      "execution_count": null,
      "outputs": []
    },
    {
      "cell_type": "code",
      "source": [
        "dataFolder(\"train\", 0.7) #new training folder"
      ],
      "metadata": {
        "id": "8WDOaMhXjXFP"
      },
      "execution_count": null,
      "outputs": []
    },
    {
      "cell_type": "code",
      "source": [
        "dataFolder(\"val\", 0.15) #new validation folder"
      ],
      "metadata": {
        "id": "TRR1RskHjqtf"
      },
      "execution_count": null,
      "outputs": []
    },
    {
      "cell_type": "code",
      "source": [
        "dataFolder(\"test\", 0.15) #new testing folder"
      ],
      "metadata": {
        "id": "HdVSr18QkBHG"
      },
      "execution_count": null,
      "outputs": []
    },
    {
      "cell_type": "markdown",
      "source": [
        "## Model Building"
      ],
      "metadata": {
        "id": "EUQLBXm3puIT"
      }
    },
    {
      "cell_type": "code",
      "source": [],
      "metadata": {
        "id": "yzypk_yRr65Y"
      },
      "execution_count": null,
      "outputs": []
    },
    {
      "cell_type": "markdown",
      "source": [
        "### Preparing our data using Data Generator"
      ],
      "metadata": {
        "id": "zJibDmfMv3bE"
      }
    },
    {
      "cell_type": "code",
      "source": [
        "def preprocessImages1(path):\n",
        "  \"\"\"\n",
        "  input : Path\n",
        "  output : Pre processed images    \"\"\"\n",
        "  image_data = ImageDataGenerator(zoom_range= 0.2, shear_range = 0.2, preprocessing_function= preprocess_input, horizontal_flip= True) #data augmentation\n",
        "  image = image_data.flow_from_directory(directory = path, target_size = (224,224), batch_size = 32, class_mode = 'binary')\n",
        "\n",
        "  return image"
      ],
      "metadata": {
        "id": "D7tzK0KXU1gg"
      },
      "execution_count": null,
      "outputs": []
    },
    {
      "cell_type": "code",
      "source": [
        "path = \"/content/train\"\n",
        "train_data = preprocessImages1(path)"
      ],
      "metadata": {
        "colab": {
          "base_uri": "https://localhost:8080/"
        },
        "id": "3bibM8pLU1jQ",
        "outputId": "88830bab-062f-4cba-a2d2-56014e96a371"
      },
      "execution_count": null,
      "outputs": [
        {
          "output_type": "stream",
          "name": "stdout",
          "text": [
            "Found 166 images belonging to 2 classes.\n"
          ]
        }
      ]
    },
    {
      "cell_type": "code",
      "source": [
        "def preprocessImages2(path):\n",
        "\n",
        "  image_data = ImageDataGenerator(preprocessing_function= preprocess_input)\n",
        "  image = image_data.flow_from_directory(directory = path, target_size = (224,224), batch_size = 32, class_mode = 'binary')\n",
        "\n",
        "  return image"
      ],
      "metadata": {
        "id": "aWdZdVcMU1l2"
      },
      "execution_count": null,
      "outputs": []
    },
    {
      "cell_type": "code",
      "source": [
        "path = \"/content/test\"\n",
        "test_data = preprocessImages2(path)"
      ],
      "metadata": {
        "colab": {
          "base_uri": "https://localhost:8080/"
        },
        "id": "JE8VU09qU1pk",
        "outputId": "c9561dad-7ab9-4df5-ae69-00c6c30ad4cd"
      },
      "execution_count": null,
      "outputs": [
        {
          "output_type": "stream",
          "name": "stdout",
          "text": [
            "Found 27 images belonging to 2 classes.\n"
          ]
        }
      ]
    },
    {
      "cell_type": "code",
      "source": [
        "path = \"/content/val\"\n",
        "val_data = preprocessImages2(path)"
      ],
      "metadata": {
        "colab": {
          "base_uri": "https://localhost:8080/"
        },
        "id": "SGEOgcQpwCRH",
        "outputId": "2b1f610f-6642-4525-bc91-e1e2f811ac14"
      },
      "execution_count": null,
      "outputs": [
        {
          "output_type": "stream",
          "name": "stdout",
          "text": [
            "Found 27 images belonging to 2 classes.\n"
          ]
        }
      ]
    },
    {
      "cell_type": "markdown",
      "source": [
        "#Model Training"
      ],
      "metadata": {
        "id": "Nuea5IMBrG1a"
      }
    },
    {
      "cell_type": "code",
      "source": [
        "base_model = MobileNet(input_shape=(224,224,3), include_top= False)"
      ],
      "metadata": {
        "id": "9fu33Bbmq3s2",
        "colab": {
          "base_uri": "https://localhost:8080/"
        },
        "outputId": "62084f61-1b22-470b-f670-9cf6c99825cf"
      },
      "execution_count": null,
      "outputs": [
        {
          "output_type": "stream",
          "name": "stdout",
          "text": [
            "Downloading data from https://storage.googleapis.com/tensorflow/keras-applications/mobilenet/mobilenet_1_0_224_tf_no_top.h5\n",
            "17225924/17225924 [==============================] - 0s 0us/step\n"
          ]
        }
      ]
    },
    {
      "cell_type": "code",
      "source": [
        "for layer in base_model.layers:\n",
        "  layer.trainable = False\n",
        "\n",
        "# base_model.summary()"
      ],
      "metadata": {
        "id": "O0cCAnTVrKjp"
      },
      "execution_count": null,
      "outputs": []
    },
    {
      "cell_type": "code",
      "source": [
        "X = Flatten()(base_model.output)\n",
        "X = Dense(units = 1, activation='sigmoid')(X)\n",
        "\n",
        "model = Model(base_model.input, X)"
      ],
      "metadata": {
        "id": "vXeKXY9ZrjBF"
      },
      "execution_count": null,
      "outputs": []
    },
    {
      "cell_type": "code",
      "source": [
        "model.summary()"
      ],
      "metadata": {
        "id": "9a-PUwn3so7S"
      },
      "execution_count": null,
      "outputs": []
    },
    {
      "cell_type": "markdown",
      "source": [
        "### Compiling the model"
      ],
      "metadata": {
        "id": "lM34gJCE6Rnj"
      }
    },
    {
      "cell_type": "code",
      "source": [
        "model.compile(optimizer='rmsprop', loss = keras.losses.binary_crossentropy, metrics = ['accuracy'])"
      ],
      "metadata": {
        "id": "Ound9R5rspQW"
      },
      "execution_count": null,
      "outputs": []
    },
    {
      "cell_type": "code",
      "source": [
        "#Early stoping and model check point\n",
        "from keras.callbacks import  ModelCheckpoint, EarlyStopping\n",
        "\n",
        "from keras.models import Model\n",
        "#early stopping\n",
        "es = EarlyStopping(monitor=\"val_accuracy\", min_delta=0.01, patience=5, verbose= 1)\n",
        "\n",
        "#model check point\n",
        "mc = ModelCheckpoint(monitor=\"val_accuracy\", filepath=\"BrainTumor_model.h5\", verbose= 1, save_best_only= True)\n",
        "\n",
        "cd= [es,mc]\n"
      ],
      "metadata": {
        "id": "rW-Hwd9sspXY"
      },
      "execution_count": null,
      "outputs": []
    },
    {
      "cell_type": "code",
      "source": [
        "EPOCH = 20\n",
        "VALID = 16"
      ],
      "metadata": {
        "id": "HwZZUtHsspet"
      },
      "execution_count": null,
      "outputs": []
    },
    {
      "cell_type": "markdown",
      "source": [
        "## Training model\n",
        "\n"
      ],
      "metadata": {
        "id": "pcNzCQTn6ZdK"
      }
    },
    {
      "cell_type": "code",
      "source": [
        "hs = model.fit_generator(train_data,\n",
        "                        #  steps_per_epoch= 8,\n",
        "                         epochs= 30,\n",
        "                         verbose= 1,\n",
        "                         validation_data = val_data,\n",
        "                        #  validation_steps= VALID,\n",
        "                         callbacks= cd)"
      ],
      "metadata": {
        "id": "aLpdDMwFrK--",
        "colab": {
          "base_uri": "https://localhost:8080/"
        },
        "outputId": "6dffe2d8-8df1-416a-c472-d0d4af10573a"
      },
      "execution_count": null,
      "outputs": [
        {
          "output_type": "stream",
          "name": "stdout",
          "text": [
            "Epoch 1/30\n",
            "6/6 [==============================] - ETA: 0s - loss: 6.2787e-06 - accuracy: 1.0000\n",
            "Epoch 1: val_accuracy improved from 0.85185 to 0.92593, saving model to BrainTumor_model.h5\n",
            "6/6 [==============================] - 3s 625ms/step - loss: 6.2787e-06 - accuracy: 1.0000 - val_loss: 1.8696 - val_accuracy: 0.9259\n",
            "Epoch 2/30\n",
            "6/6 [==============================] - ETA: 0s - loss: 1.5990e-04 - accuracy: 1.0000\n",
            "Epoch 2: val_accuracy did not improve from 0.92593\n",
            "6/6 [==============================] - 2s 342ms/step - loss: 1.5990e-04 - accuracy: 1.0000 - val_loss: 1.8233 - val_accuracy: 0.9259\n",
            "Epoch 3/30\n",
            "6/6 [==============================] - ETA: 0s - loss: 2.9705e-04 - accuracy: 1.0000\n",
            "Epoch 3: val_accuracy did not improve from 0.92593\n",
            "6/6 [==============================] - 2s 339ms/step - loss: 2.9705e-04 - accuracy: 1.0000 - val_loss: 1.7235 - val_accuracy: 0.9259\n",
            "Epoch 4/30\n",
            "5/6 [========================>.....] - ETA: 0s - loss: 1.8540e-04 - accuracy: 1.0000\n",
            "Epoch 4: val_accuracy did not improve from 0.92593\n",
            "6/6 [==============================] - 2s 344ms/step - loss: 1.7870e-04 - accuracy: 1.0000 - val_loss: 1.6332 - val_accuracy: 0.8889\n",
            "Epoch 5/30\n",
            "6/6 [==============================] - ETA: 0s - loss: 1.2349e-04 - accuracy: 1.0000\n",
            "Epoch 5: val_accuracy did not improve from 0.92593\n",
            "6/6 [==============================] - 2s 341ms/step - loss: 1.2349e-04 - accuracy: 1.0000 - val_loss: 1.7351 - val_accuracy: 0.9259\n",
            "Epoch 6/30\n",
            "6/6 [==============================] - ETA: 0s - loss: 3.9555e-05 - accuracy: 1.0000\n",
            "Epoch 6: val_accuracy did not improve from 0.92593\n",
            "6/6 [==============================] - 3s 545ms/step - loss: 3.9555e-05 - accuracy: 1.0000 - val_loss: 1.7173 - val_accuracy: 0.9259\n",
            "Epoch 6: early stopping\n"
          ]
        }
      ]
    },
    {
      "cell_type": "markdown",
      "source": [
        "#Model Accuracy"
      ],
      "metadata": {
        "id": "-trYEohJh7Sh"
      }
    },
    {
      "cell_type": "code",
      "source": [
        "# #Model Accuracy\n",
        "# from keras.models import load_model\n",
        "# model = load_model(\"/content/drive/MyDrive/bestmodel.h5\")"
      ],
      "metadata": {
        "id": "fmF8SILerLI9"
      },
      "execution_count": null,
      "outputs": []
    },
    {
      "cell_type": "code",
      "source": [
        "acc = model.evaluate_generator(test_data)[1]\n",
        "print(f\"the accuracy of our model is {acc*100} %\")"
      ],
      "metadata": {
        "colab": {
          "base_uri": "https://localhost:8080/"
        },
        "id": "bRp6MBCDrLLz",
        "outputId": "0e18ded8-642e-4ca8-dbd7-d3c25eaa5e36"
      },
      "execution_count": null,
      "outputs": [
        {
          "output_type": "stream",
          "name": "stdout",
          "text": [
            "the accuracy of our model is 85.18518805503845 %\n"
          ]
        }
      ]
    },
    {
      "cell_type": "code",
      "source": [],
      "metadata": {
        "id": "FeLXbBO4wiGi"
      },
      "execution_count": null,
      "outputs": []
    },
    {
      "cell_type": "code",
      "source": [
        "#Model Graphical Interpretation\n",
        "h = hs.history\n",
        "h.keys()"
      ],
      "metadata": {
        "colab": {
          "base_uri": "https://localhost:8080/"
        },
        "id": "6krrIZjirLBo",
        "outputId": "9ad798dd-f4ef-4112-f0e2-a6a83d1e3cf9"
      },
      "execution_count": null,
      "outputs": [
        {
          "output_type": "execute_result",
          "data": {
            "text/plain": [
              "dict_keys(['loss', 'accuracy', 'val_loss', 'val_accuracy'])"
            ]
          },
          "metadata": {},
          "execution_count": 42
        }
      ]
    },
    {
      "cell_type": "code",
      "source": [
        "import matplotlib.pyplot as plt\n",
        "plt.plot(h['accuracy'])\n",
        "plt.plot(h['val_accuracy'], c = \"red\")\n",
        "\n",
        "plt.title(\"acc vs val-acc\")\n",
        "plt.show()"
      ],
      "metadata": {
        "id": "Y9r6eNx6rLEc",
        "colab": {
          "base_uri": "https://localhost:8080/",
          "height": 281
        },
        "outputId": "cd24795f-6f5a-490c-e9b8-7ed0da41aa20"
      },
      "execution_count": null,
      "outputs": [
        {
          "output_type": "display_data",
          "data": {
            "text/plain": [
              "<Figure size 432x288 with 1 Axes>"
            ],
            "image/png": "[encoded data removed]"
          },
          "metadata": {
            "needs_background": "light"
          }
        }
      ]
    },
    {
      "cell_type": "code",
      "source": [
        "import matplotlib.pyplot as plt\n",
        "plt.plot(h['loss'])\n",
        "plt.plot(h['val_loss'], c = \"red\")\n",
        "\n",
        "plt.title(\"loss vs val-loss\")\n",
        "plt.show()"
      ],
      "metadata": {
        "id": "VIqtTsUYrLGu",
        "colab": {
          "base_uri": "https://localhost:8080/",
          "height": 281
        },
        "outputId": "23baf030-8656-4fc3-c2fa-36748a773001"
      },
      "execution_count": null,
      "outputs": [
        {
          "output_type": "display_data",
          "data": {
            "text/plain": [
              "<Figure size 432x288 with 1 Axes>"
            ],
            "image/png": "[encoded data removed]"
          },
          "metadata": {
            "needs_background": "light"
          }
        }
      ]
    },
    {
      "cell_type": "code",
      "source": [
        "CLASS_NAMES = list(train_data.class_indices.keys())\n",
        "CLASS_NAMES"
      ],
      "metadata": {
        "colab": {
          "base_uri": "https://localhost:8080/"
        },
        "id": "G9GR6NaZXLMy",
        "outputId": "0e82ad2b-2322-4ac5-c6c8-a3593bfd0f93"
      },
      "execution_count": null,
      "outputs": [
        {
          "output_type": "execute_result",
          "data": {
            "text/plain": [
              "['no', 'yes']"
            ]
          },
          "metadata": {},
          "execution_count": 30
        }
      ]
    },
    {
      "cell_type": "code",
      "source": [
        "predictions = np.argmax(model.predict(test_data), axis=1)\n",
        "\n",
        "acc = accuracy_score(test_data.labels, predictions)\n",
        "cm = tf.math.confusion_matrix(test_data.labels, predictions)\n",
        "clr = classification_report(test_data.labels, predictions, target_names=CLASS_NAMES)\n",
        "\n",
        "print(\"Test Accuracy: {:.3f}%\".format(acc * 100))\n",
        "\n",
        "plt.figure(figsize=(8, 8))\n",
        "sns.heatmap(cm, annot=True, fmt='g', vmin=0, cmap='Blues', cbar=False)\n",
        "plt.xticks(ticks= np.arange(2) + 0.5, labels=CLASS_NAMES)\n",
        "plt.yticks(ticks= np.arange(2) + 0.5, labels=CLASS_NAMES)\n",
        "plt.xlabel(\"Predicted\")\n",
        "plt.ylabel(\"Actual\")\n",
        "plt.title(\"Confusion Matrix\")\n",
        "plt.show()"
      ],
      "metadata": {
        "colab": {
          "base_uri": "https://localhost:8080/",
          "height": 549
        },
        "id": "kT29OI4ZW23O",
        "outputId": "9e905e78-8991-4805-f3e5-8d70c54c68ab"
      },
      "execution_count": null,
      "outputs": [
        {
          "output_type": "stream",
          "name": "stdout",
          "text": [
            "1/1 [==============================] - 0s 106ms/step\n",
            "Test Accuracy: 33.333%\n"
          ]
        },
        {
          "output_type": "display_data",
          "data": {
            "text/plain": [
              "<Figure size 576x576 with 1 Axes>"
            ],
            "image/png": "[encoded data removed]"
          },
          "metadata": {
            "needs_background": "light"
          }
        }
      ]
    },
    {
      "cell_type": "code",
      "source": [
        "predictions = np.argmax(model.predict(val_data), axis=1)\n",
        "\n",
        "acc = accuracy_score(val_data.labels, predictions)\n",
        "cm = tf.math.confusion_matrix(val_data.labels, predictions)\n",
        "clr = classification_report(val_data.labels, predictions, target_names=CLASS_NAMES)\n",
        "\n",
        "print(\"Validation Accuracy: {:.3f}%\".format(acc * 100))\n",
        "\n",
        "plt.figure(figsize=(8, 8))\n",
        "sns.heatmap(cm, annot=True, fmt='g', vmin=0, cmap='Blues', cbar=False)\n",
        "plt.xticks(ticks= np.arange(2) + 0.5, labels=CLASS_NAMES)\n",
        "plt.yticks(ticks= np.arange(2) + 0.5, labels=CLASS_NAMES)\n",
        "plt.xlabel(\"Predicted\")\n",
        "plt.ylabel(\"Actual\")\n",
        "plt.title(\"Confusion Matrix\")\n",
        "plt.show()\n",
        "\n",
        "print(\"Classification Report:\\n----------------------\\n\", clr)"
      ],
      "metadata": {
        "colab": {
          "base_uri": "https://localhost:8080/",
          "height": 750
        },
        "id": "rZva6_fQYdLO",
        "outputId": "b9ae9436-dc2b-448c-9e0b-42dc80817f0d"
      },
      "execution_count": null,
      "outputs": [
        {
          "output_type": "stream",
          "name": "stdout",
          "text": [
            "1/1 [==============================] - 0s 99ms/step\n",
            "Validation Accuracy: 33.333%\n"
          ]
        },
        {
          "output_type": "display_data",
          "data": {
            "text/plain": [
              "<Figure size 576x576 with 1 Axes>"
            ],
            "image/png": "[encoded data removed]"
          },
          "metadata": {
            "needs_background": "light"
          }
        },
        {
          "output_type": "stream",
          "name": "stdout",
          "text": [
            "Classification Report:\n",
            "----------------------\n",
            "               precision    recall  f1-score   support\n",
            "\n",
            "          no       0.33      1.00      0.50         9\n",
            "         yes       0.00      0.00      0.00        18\n",
            "\n",
            "    accuracy                           0.33        27\n",
            "   macro avg       0.17      0.50      0.25        27\n",
            "weighted avg       0.11      0.33      0.17        27\n",
            "\n"
          ]
        }
      ]
    },
    {
      "cell_type": "code",
      "source": [
        "from tensorflow.keras.preprocessing.image import load_img, img_to_array\n",
        "# from tf.keras.utils.load_img\n",
        "from keras.preprocessing import image\n",
        "from tensorflow.keras.preprocessing import image"
      ],
      "metadata": {
        "id": "4Wxas456jPLH"
      },
      "execution_count": null,
      "outputs": []
    },
    {
      "cell_type": "code",
      "source": [
        "\n",
        "# img = image.load_img(\"/content/val/yes/Y169.jpg\", target_size = (224,224))\n",
        "img = image.load_img(\"/content/train/no/17 no.jpg\", target_size = (224,224))\n",
        "\n",
        "\n",
        "i = image.img_to_array(img)/255   #dividing by 255 for normalizing the image\n",
        "# i = preprocess_input(i)\n",
        "input_arr = np.array([i])\n",
        "input_arr.shape\n",
        "# input_arr = np.expand_dims(input_arr, axis = 0 )\n",
        "# pred = model.predict(input_arr)[0][0]\n",
        "# pred = np.argmax(model.predict(input_arr))\n",
        "\n",
        "\n",
        "pred = (model.predict(input_arr) > 0.5)*1\n",
        "# pred\n",
        "\n",
        "# ploting image\n",
        "plt.imshow(input_arr[0])\n",
        "plt.title(\"input image\")\n",
        "plt.show()\n",
        "\n",
        "\n",
        "# path = \"/content/val/yes/Y169.jpg\"\n",
        "\n",
        "if pred == 0:\n",
        "  print(\"The MRI image NOT HAVING a tumor\")\n",
        "else:\n",
        "  print(\"The MRI image HAVING a tumor\")"
      ],
      "metadata": {
        "colab": {
          "base_uri": "https://localhost:8080/",
          "height": 317
        },
        "id": "1eeosezErLO9",
        "outputId": "c8a18ff7-edaf-4c18-e0b8-f0e32f683362"
      },
      "execution_count": null,
      "outputs": [
        {
          "output_type": "stream",
          "name": "stdout",
          "text": [
            "1/1 [==============================] - 0s 80ms/step\n"
          ]
        },
        {
          "output_type": "display_data",
          "data": {
            "text/plain": [
              "<Figure size 432x288 with 1 Axes>"
            ],
            "image/png": "[encoded data removed]"
          },
          "metadata": {
            "needs_background": "light"
          }
        },
        {
          "output_type": "stream",
          "name": "stdout",
          "text": [
            "The MRI image NOT HAVING a tumor\n"
          ]
        }
      ]
    },
    {
      "cell_type": "code",
      "source": [
        "train_data.class_indices"
      ],
      "metadata": {
        "colab": {
          "base_uri": "https://localhost:8080/"
        },
        "id": "ZwwPuBKfwCZN",
        "outputId": "41c16f30-ad64-4ea4-daad-0931f2b75d05"
      },
      "execution_count": null,
      "outputs": [
        {
          "output_type": "execute_result",
          "data": {
            "text/plain": [
              "{'no': 0, 'yes': 1}"
            ]
          },
          "metadata": {},
          "execution_count": 37
        }
      ]
    },
    {
      "cell_type": "code",
      "source": [],
      "metadata": {
        "id": "WUVFE0AjqqgA"
      },
      "execution_count": null,
      "outputs": []
    }
  ]
}